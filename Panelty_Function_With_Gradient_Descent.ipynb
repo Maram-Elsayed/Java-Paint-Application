{
  "nbformat": 4,
  "nbformat_minor": 0,
  "metadata": {
    "colab": {
      "name": "Panelty Function With Gradient Descent.ipynb",
      "provenance": [],
      "collapsed_sections": [],
      "include_colab_link": true
    },
    "kernelspec": {
      "name": "python3",
      "display_name": "Python 3"
    },
    "accelerator": "GPU"
  },
  "cells": [
    {
      "cell_type": "markdown",
      "metadata": {
        "id": "view-in-github",
        "colab_type": "text"
      },
      "source": [
        "<a href=\"https://colab.research.google.com/github/Maram-Elsayed/Java-Paint-Application/blob/master/Panelty_Function_With_Gradient_Descent.ipynb\" target=\"_parent\"><img src=\"https://colab.research.google.com/assets/colab-badge.svg\" alt=\"Open In Colab\"/></a>"
      ]
    },
    {
      "cell_type": "code",
      "metadata": {
        "id": "QSVTCOP_m31h",
        "colab_type": "code",
        "colab": {}
      },
      "source": [
        "import sympy as sym\n",
        "import sys \n",
        "from sympy import Symbol\n",
        "from sympy.functions import Max\n",
        "from sympy.core.relational import Relational\n",
        "from sympy.abc import x,y,z\n",
        "from sympy.parsing.sympy_parser import parse_expr\n",
        "\n",
        "r = sym.Symbol('r')\n",
        "x1 = sym.Symbol('x1')\n",
        "x2 = sym.Symbol('x2')\n",
        "\n",
        "f = sym.Function('f') \n",
        "M = sym.Function('M') \n",
        "\n",
        "def move_inequality_constants(ineq):\n",
        "    l = ineq.lhs\n",
        "    r = ineq.rhs\n",
        "    op = ineq.rel_op    \n",
        "    \n",
        "    if op.__contains__('<'):\n",
        "      return l - r\n",
        "    else: \n",
        "      return r - l\n",
        "\n",
        "\n"
      ],
      "execution_count": 0,
      "outputs": []
    },
    {
      "cell_type": "code",
      "metadata": {
        "id": "7ZyXQn0Dq0jH",
        "colab_type": "code",
        "outputId": "76219693-fe29-4b33-a4c0-69c20bca7df9",
        "colab": {
          "base_uri": "https://localhost:8080/",
          "height": 118
        }
      },
      "source": [
        "import sympy as sym\n",
        "import sys \n",
        "from sympy.functions import Max\n",
        "from sympy.core.relational import Relational\n",
        "from sympy.abc import x,y,z\n",
        "from sympy.parsing.sympy_parser import parse_expr\n",
        "\n",
        "r = sym.Symbol('r')\n",
        "x1 = sym.Symbol('x1')\n",
        "x2 = sym.Symbol('x2')\n",
        "f = sym.Function('f') \n",
        "M = sym.Function('M') \n",
        "\n",
        "def move_inequality_constants(ineq):\n",
        "    l = ineq.lhs\n",
        "    r = ineq.rhs\n",
        "    op = ineq.rel_op    \n",
        "    \n",
        "    if op.__contains__('<'):\n",
        "      return l - r\n",
        "    else: \n",
        "      return r - l\n",
        "\n",
        "\n",
        "iterations=10\n",
        "g = list()\n",
        "k=0\n",
        "\n",
        "r_k=float(input(\"Enter penalty parameter: \"))\n",
        "c=float(input(\"Enter penalty scale: \"))\n",
        "e=float(input(\"Enter step lenght: \"))\n",
        "gd_iterations=int(input(\"Enter number of iterations for gradient descent method: \"))\n",
        "start_pt=input(\"Enter starting points: \")\n",
        "f=input(\"f(x)=\")\n",
        "f=parse_expr(f.replace('x1','x').replace('x2','y'))\n",
        "st=input(\"Enter number of inequality constraints: \")\n",
        "while k<int(st): \n",
        "  h=input()\n",
        "  h=parse_expr(h.replace('x1','x').replace('x2','y'))\n",
        "  g.append(move_inequality_constants(h))\n",
        "  k+=1\n",
        "  \n",
        "\n",
        "start_pt=list(start_pt.replace(',',\"\"))\n",
        "for p in range(len(start_pt)):\n",
        "   start_pt[p]=int(start_pt[p])\n",
        "  \n",
        "\n",
        "M=f\n",
        "for j in g:\n",
        "  M=M+r*(Max(0,j))**2\n",
        "\n",
        "delta_k=[sym.diff(M, x),sym.diff(M, y)]\n",
        "\n",
        "i=0\n",
        "while i<iterations:\n",
        "  delta_1=[delta_k[0].subs(x, x_pt).subs(y, y_pt).subs(r,r_k),delta_k[1].subs(x, start_pt[0]).subs(y, start_pt[1]).subs(r,r_k) ]  \n",
        "  X=[m - n for m,n in zip(start_pt,[j * e for j in delta_1])]\n",
        "  for m in range(gd_iterations-1):  \n",
        "    delta_1=[delta_k[0].subs(x, X[0]).subs(y, X[1]).subs(r,r_k),delta_k[1].subs(x, X[0]).subs(y, X[1]).subs(r,r_k) ] \n",
        "    X=[m - n for m,n in zip(X,[j * e for j in delta_1])]  \n",
        "  t=0\n",
        "  for k in range(int(st)):      \n",
        "     if g[k].subs(x,X[0]).subs(y,X[1])<=0:\n",
        "        t+=1\n",
        "     else:\n",
        "      break\n",
        "  r_k*=c      \n",
        "  if t==int(int(st)):\n",
        "    break\n",
        "  i+=1 \n",
        "print(\"fmin= {} at point {} \".format(f.subs(x, X[0]).subs(y,X[1]), X))\n"
      ],
      "execution_count": 0,
      "outputs": [
        {
          "output_type": "stream",
          "text": [
            "f(x)=1/3*(x1+1)**3+x2\n",
            "Enter number of inequality constraints: 2\n",
            "x1>=1\n",
            "x2>=0\n"
          ],
          "name": "stdout"
        },
        {
          "output_type": "display_data",
          "data": {
            "text/plain": [
              "2.90969712633333"
            ]
          },
          "metadata": {
            "tags": []
          }
        },
        {
          "output_type": "display_data",
          "data": {
            "text/plain": [
              "[1.05900000000000, 0]"
            ]
          },
          "metadata": {
            "tags": []
          }
        }
      ]
    },
    {
      "cell_type": "code",
      "metadata": {
        "id": "MLBQs2PrRwxG",
        "colab_type": "code",
        "outputId": "52e8426f-0edb-4d95-f7b6-3d7bd0bfe0dc",
        "colab": {
          "base_uri": "https://localhost:8080/",
          "height": 420
        }
      },
      "source": [
        "import sympy as sym\n",
        "import sys \n",
        "from sympy.functions import Max\n",
        "from sympy.core.relational import Relational\n",
        "from sympy.abc import x,y,z\n",
        "from sympy.parsing.sympy_parser import parse_expr\n",
        "\n",
        "r = sym.Symbol('r')\n",
        "f = sym.Function('f') \n",
        "M = sym.Function('M') \n",
        "x=list()\n",
        "delta_1=list()\n",
        "g = list()\n",
        "delta_k=list()\n",
        "\n",
        "x.append(\"x0\")\n",
        "for i in range(1,20):\n",
        "  q=\"x\"+str(i)  \n",
        "  x.append(sym.Function(q))\n",
        "\n",
        "def move_inequality_constants(ineq):\n",
        "    l = ineq.lhs\n",
        "    r = ineq.rhs\n",
        "    op = ineq.rel_op    \n",
        "    \n",
        "    if op.__contains__('<'):\n",
        "      return l - r\n",
        "    else: \n",
        "      return r - l\n",
        "    \n",
        "def generate_quadratic_penalty(obj_fun):\n",
        "  quad=obj_fun\n",
        "  for j in g:\n",
        "    quad=quad+r*(Max(0,j))**2\n",
        "  return quad\n",
        "\n",
        "def derivate_quadratic_penalty(quad,dimension):\n",
        "    for i in range(int(dimension)):\n",
        "      q=\"x\"+str(i+1) \n",
        "      delta_k.append(sym.diff(quad, q))\n",
        "     \n",
        "\n",
        "dimension=input(\"Enter dimension: \")\n",
        "r_k=float(input(\"Enter penalty parameter: \"))\n",
        "c=float(input(\"Enter penalty scale: \"))\n",
        "e=float(input(\"Enter step lenght: \"))\n",
        "gd_iterations=int(input(\"Enter number of iterations for gradient descent method: \"))\n",
        "iterations=int(input(\"Enter number of iterations for penalty method: \"))\n",
        "start_pt=input(\"Enter starting points: \")\n",
        "start_pt=list(start_pt.replace(',',\"\"))\n",
        "for p in range(len(start_pt)):\n",
        "   start_pt[p]=int(start_pt[p])\n",
        "\n",
        "f=parse_expr(input(\"f=\"))\n",
        "\n",
        "\n",
        "st=input(\"Enter number of inequality constraints: \")\n",
        "k=0\n",
        "while k<int(st):\n",
        "  h=parse_expr(input())\n",
        "  g.append(move_inequality_constants(h))\n",
        "  k+=1\n",
        "  \n",
        "\n",
        "def gradient_descent():\n",
        "  for d in range(gd_iterations):\n",
        "    print(\"Iteration {} of gradient descent method\".format(d+1))\n",
        "    delta_1=list()\n",
        "    if d==0:\n",
        "      X=start_pt\n",
        "    for q in range(len(delta_k)):\n",
        "      y=\"x\"+str(q+1)\n",
        "      l=delta_k[q]\n",
        "      for t in range(len(delta_k)):         \n",
        "         l=l.subs(y,X[q])\n",
        "      delta_1.append(round(l.subs(r,r_k),2))   \n",
        "    X=[m - n for m,n in zip(X,[round(j * e,2) for j in delta_1])]\n",
        "    print(\"Φ{}={}    X{}={}\".format(d+1,delta_1,d+1,X))\n",
        "  return  X\n",
        "  \n",
        "\n",
        "M=generate_quadratic_penalty(f)\n",
        "derivate_quadratic_penalty(M,dimension)\n",
        "\n",
        "\n",
        "\n",
        "i=0\n",
        "\n",
        "while i<iterations:\n",
        "  \n",
        "    \n",
        "  print(\"Iteration {} of penalty method\".format(i+1))\n",
        "  print(\"r={}\".format(r_k))\n",
        "  X=gradient_descent()\n",
        "  t=0\n",
        "  for k in range(int(st)):\n",
        "    y=\"x\"+str(k+1)\n",
        "    h=g[k]\n",
        "    \n",
        "    for p in range(len(delta_k)):\n",
        "       h=h.subs(y,X[p]) \n",
        "      \n",
        "    if h<=0:\n",
        "        t+=1\n",
        "    else:\n",
        "      break\n",
        "   \n",
        "  r_k*=c\n",
        "  if t==int(int(st)):\n",
        "    break\n",
        "  \n",
        "      \n",
        "  i+=1 \n",
        "print(\"fmin at point {} \".format( X))\n",
        "\n"
      ],
      "execution_count": 0,
      "outputs": [
        {
          "output_type": "stream",
          "text": [
            "Enter dimension: 2\n",
            "Enter penalty parameter: 1\n",
            "Enter penalty scale: 10\n",
            "Enter step lenght: .1\n",
            "Enter number of iterations for gradient descent method: 2\n",
            "Enter number of iterations for penalty method: 10\n",
            "Enter starting points: 0,0\n",
            "f=1/3*(x1+1)**3+x2\n",
            "Enter number of inequality constraints: 2\n",
            "x1>=1\n",
            "x2>=0\n",
            "Iteration 1 of penalty method\n",
            "r=1.0\n",
            "Iteration 1 of gradient descent method\n",
            "Φ1=[-1.0, 1.0]    X1=[0.1, -0.1]\n",
            "Iteration 2 of gradient descent method\n",
            "Φ2=[-0.59, 0.8]    X2=[0.16, -0.18]\n",
            "Iteration 2 of penalty method\n",
            "r=10.0\n",
            "Iteration 1 of gradient descent method\n",
            "Φ1=[-19.0, 1.0]    X1=[1.9, -0.1]\n",
            "Iteration 2 of gradient descent method\n",
            "Φ2=[8.41, -1.0]    X2=[1.06, 0.0]\n",
            "fmin at point [1.06, 0.0] \n"
          ],
          "name": "stdout"
        }
      ]
    },
    {
      "cell_type": "code",
      "metadata": {
        "id": "1azg35Oc0jkn",
        "colab_type": "code",
        "outputId": "29fb2e68-99bd-4b77-e623-d46fce3423fe",
        "colab": {
          "base_uri": "https://localhost:8080/",
          "height": 231
        }
      },
      "source": [
        "\n",
        "\n",
        "M=generate_quadratic_penalty(f,g,r_k)\n",
        "\n",
        "\n",
        "delta_k=list()\n",
        "for i in range(1, int(dimension)+1):\n",
        "  q=\"x\"+str(i) \n",
        "  delta_k.append(sym.diff(M, q))\n",
        "i=0\n",
        "r_k=1\n",
        "while i<iterations:\n",
        "  delta_1=list()\n",
        "  delta_2=list()\n",
        "  \n",
        "  for q in range(len(delta_k)):\n",
        "    y=\"x\"+str(q+1)\n",
        "    l=delta_k[q]\n",
        "    for t in range(len(delta_k)):\n",
        "       l=l.subs(y,start_pt[q])\n",
        "    delta_1.append(l.subs(r,r_k))  \n",
        "  X=[m - n for m,n in zip(start_pt,[j * e for j in delta_1])]\n",
        "  \n",
        "  for d in range(gd_iterations-1): \n",
        "    delta_1=list()\n",
        "    for q in range(len(delta_k)):\n",
        "      y=\"x\"+str(q+1)\n",
        "      l=delta_k[q]\n",
        "      for t in range(len(delta_k)):\n",
        "         l=l.subs(y,X[q])\n",
        "      delta_1.append(l.subs(r,r_k)) \n",
        "      \n",
        "    X=[m - n for m,n in zip(X,[j * e for j in delta_1])]\n",
        " \n",
        "  t=0\n",
        "  for k in range(int(st)):\n",
        "    y=\"x\"+str(k+1)\n",
        "    h=g[k]\n",
        "    \n",
        "    for p in range(len(delta_k)):\n",
        "       h=h.subs(y,X[p]) \n",
        "      \n",
        "    if h<=0:\n",
        "        t+=1\n",
        "    else:\n",
        "      break\n",
        "   \n",
        "  r_k*=c\n",
        "  if t==int(int(st)):\n",
        "    break\n",
        "  \n",
        "      \n",
        "  i+=1 \n",
        "print(\"fmin at point {} \".format( X))\n",
        "\n"
      ],
      "execution_count": 0,
      "outputs": [
        {
          "output_type": "error",
          "ename": "TypeError",
          "evalue": "ignored",
          "traceback": [
            "\u001b[0;31m---------------------------------------------------------------------------\u001b[0m",
            "\u001b[0;31mTypeError\u001b[0m                                 Traceback (most recent call last)",
            "\u001b[0;32m<ipython-input-11-c1f396c7d133>\u001b[0m in \u001b[0;36m<module>\u001b[0;34m()\u001b[0m\n\u001b[1;32m      1\u001b[0m \u001b[0;34m\u001b[0m\u001b[0m\n\u001b[1;32m      2\u001b[0m \u001b[0;34m\u001b[0m\u001b[0m\n\u001b[0;32m----> 3\u001b[0;31m \u001b[0mM\u001b[0m\u001b[0;34m=\u001b[0m\u001b[0mgenerate_quadratic_penalty\u001b[0m\u001b[0;34m(\u001b[0m\u001b[0mf\u001b[0m\u001b[0;34m,\u001b[0m\u001b[0mg\u001b[0m\u001b[0;34m,\u001b[0m\u001b[0mr_k\u001b[0m\u001b[0;34m)\u001b[0m\u001b[0;34m\u001b[0m\u001b[0;34m\u001b[0m\u001b[0m\n\u001b[0m\u001b[1;32m      4\u001b[0m \u001b[0;34m\u001b[0m\u001b[0m\n\u001b[1;32m      5\u001b[0m \u001b[0;34m\u001b[0m\u001b[0m\n",
            "\u001b[0;31mTypeError\u001b[0m: generate_quadratic_penalty() missing 1 required keyword-only argument: 'r'"
          ]
        }
      ]
    },
    {
      "cell_type": "code",
      "metadata": {
        "id": "tqpfWABkNE5Z",
        "colab_type": "code",
        "outputId": "6a39ecf7-0720-445e-d9a6-f932c14526b0",
        "colab": {
          "base_uri": "https://localhost:8080/",
          "height": 50
        }
      },
      "source": [
        ""
      ],
      "execution_count": 0,
      "outputs": [
        {
          "output_type": "stream",
          "text": [
            "enter X lower5 7 6\n"
          ],
          "name": "stdout"
        },
        {
          "output_type": "execute_result",
          "data": {
            "text/plain": [
              "[5.0, 7.0, 6.0]"
            ]
          },
          "metadata": {
            "tags": []
          },
          "execution_count": 24
        }
      ]
    }
  ]
}